{
  "nbformat": 4,
  "nbformat_minor": 0,
  "metadata": {
    "colab": {
      "provenance": []
    },
    "kernelspec": {
      "name": "python3",
      "display_name": "Python 3"
    },
    "language_info": {
      "name": "python"
    }
  },
  "cells": [
    {
      "cell_type": "markdown",
      "source": [
        "# Data Toolkit theoretical Question\n",
        "\n",
        "\n",
        "---\n",
        "\n",
        "\n",
        "\n",
        "---\n",
        "\n"
      ],
      "metadata": {
        "id": "bcy56qpZGo0N"
      }
    },
    {
      "cell_type": "markdown",
      "source": [
        "1. **What is NumPy, and why is it widely used in Python**\n",
        "\n",
        "   - NumPy (Numerical Python) is a powerful open-source Python library used for scientific computing. It provides support for:\n",
        "\n",
        "**What is NumPy**\n",
        "\n",
        "NumPy is a library that provides:\n",
        "\n",
        "A powerful N-dimensional array object called ndarray\n",
        "\n",
        "Functions for mathematical operations (e.g., linear algebra, Fourier transforms, statistics)\n",
        "\n",
        "Tools for integrating with C/C++ and other libraries\n",
        "\n",
        "**Why is NumPy Widely Used**\n",
        "\n",
        "           Feature\t                                   Description\n",
        "\n",
        "     Efficient Arrays\t                 Uses less memory and provides faster access to data than Python lists\n",
        "     Broadcasting\t                     Allows vectorized operations across arrays of different shapes\n",
        "     Speed\t                            Internally uses C for computation, making it much faster than native Python\n",
        "     Convenience\t                      Makes it easy to perform complex mathematical operations with a few lines of code\n",
        "     Interoperability\t                 Works well with other libraries like Pandas, Matplotlib, SciPy, Scikit-learn, etc.\n",
        "     Community Support\t                Extensive documentation and a large user base for support and development"
      ],
      "metadata": {
        "id": "sIeZBIWVHN51"
      }
    },
    {
      "cell_type": "markdown",
      "source": [
        "2. **How does broadcasting work in NumPy**\n",
        "\n",
        "     - Broadcasting in NumPy is a powerful feature that allows NumPy to perform arithmetic operations on arrays of different shapes without explicitly copying data.\n",
        "     \n",
        "      **Broadcasting**\n",
        "\n",
        "Broadcasting automatically expands the smaller array during an operation so that it matches the shape of the larger array.\n",
        "\n",
        "**Basic Rules of Broadcasting**\n",
        "\n",
        "When performing operations on two arrays, NumPy compares their shapes element-wise, starting from the trailing dimensions. Two dimensions are compatible when:\n",
        "\n",
        "They are equal, or\n",
        "\n",
        "One of them is 1\n",
        "\n",
        "If the shapes are compatible, NumPy \"broadcasts\" the smaller array across the larger one so they can be added, multiplied, etc."
      ],
      "metadata": {
        "id": "EHTPt0B-JFgV"
      }
    },
    {
      "cell_type": "markdown",
      "source": [
        "3. **What is a Pandas DataFrame**  \n",
        "\n",
        "   -  A Pandas DataFrame is a 2-dimensional, tabular data structure in Python’s Pandas library, similar to a table in a database, an Excel spreadsheet, or a data frame in R.\n",
        "\n",
        " **Key Features of a DataFrame:**\n",
        "\n",
        "Labeled axes: rows have labels (index), and columns have labels (column names).\n",
        "\n",
        "Heterogeneous data: each column can have a different data type (e.g., int, float, string).\n",
        "\n",
        "Size mutable: you can add/remove rows and columns.\n",
        "\n",
        "Powerful operations: supports filtering, aggregation, merging, reshaping, etc."
      ],
      "metadata": {
        "id": "SC4b15OgKOT0"
      }
    },
    {
      "cell_type": "markdown",
      "source": [
        "4.  **Explain the use of the groupby() method in Pandas.**  \n",
        "\n",
        "    -  The groupby() method in Pandas is used to split data into groups based on some criteria, apply a function to each group, and then combine the results into a new DataFrame or Series. This is part of the Split-Apply-Combine strategy often used in data analysis.\n",
        "\n",
        " **groupby() Workflow**\n",
        "\n",
        " 1. Split – Split data into groups based on values in one or more columns.\n",
        " 2. Apply – Apply a function (e.g., sum(), mean(), count(), etc.) to each group.\n",
        " 3. Combine – Combine the results into a new structure.\n",
        "\n",
        "   **Why groupby() is powerful**\n",
        "\n",
        "Aggregation: .sum(), .mean(), .count(), etc.\n",
        "\n",
        "Transformation: .transform()\n",
        "\n",
        "Filtering: .filter()\n",
        "\n",
        "Iteration: loop through groups\n",
        "\n",
        " **Common Use Cases**\n",
        "\n",
        "Grouping sales data by region or product\n",
        "\n",
        "Calculating average scores by class or subject\n",
        "\n",
        "Counting entries by category\n",
        "\n",
        "\n",
        "\n"
      ],
      "metadata": {
        "id": "C51O63vRLKdJ"
      }
    },
    {
      "cell_type": "markdown",
      "source": [
        "5. **Why is Seaborn preferred for statistical visualizations**\n",
        "\n",
        "    -  Seaborn is preferred for statistical visualizations in Python for several compelling reasons:\n",
        "\n",
        "     Seaborn = Statistics + Visualization + Pandas Integration + Style, all in one.\n",
        "\n",
        "     1. Built-in Statistical Plots\n",
        "\n",
        "     2. Automatic Aggregation and Estimation\n",
        "\n",
        "     3. Beautiful and Informative Defaults\n",
        "\n",
        "     4. Seamless Pandas Integration\n",
        "\n",
        "     5. Enhanced Multi-Plot Tools\n",
        "\n",
        "     6. Built-in Themes\n",
        "\n"
      ],
      "metadata": {
        "id": "vwwx5yE_MSzP"
      }
    },
    {
      "cell_type": "markdown",
      "source": [
        "6. **What are the differences between NumPy arrays and Python lists**\n",
        "\n",
        "    -  **1. Performance**\n",
        "\n",
        "NumPy Arrays: Much faster and more memory-efficient due to fixed-type and optimized C backend.\n",
        "\n",
        "Python Lists: Slower for numerical operations; stores data as individual Python objects.\n",
        "   \n",
        "   **2. Data Type Consistency**\n",
        "\n",
        "NumPy Arrays: All elements must be of the same data type (int, float, etc.).\n",
        "\n",
        "Python Lists: Can store mixed types (int, str, float, etc.).\n",
        "\n",
        "  **3. Functionality**\n",
        "\n",
        "NumPy Arrays: Support element-wise operations, broadcasting, slicing, reshaping, etc.\n",
        "\n",
        "Python Lists: Don’t support element-wise math without loops or list comprehensions\n",
        "\n",
        " **4. Memory Usage**\n",
        "\n",
        "NumPy Arrays: Use less memory because they store data in contiguous blocks with fixed-size types.\n",
        "\n",
        "Python Lists: More memory due to dynamic typing and object overhead.\n",
        "\n",
        "**5. Multidimensional Support**\n",
        "\n",
        "NumPy Arrays: Support multidimensional arrays (matrices, tensors).\n",
        "\n",
        "Python Lists: Can nest lists, but it’s not efficient or standardized for matrix operations.\n",
        "\n",
        "  **6. Speed for Numerical Computations**\n",
        "\n",
        "  NumPy: Optimized for large-scale scientific computation.\n",
        "\n",
        "Lists: Poor performance in numerical tasks without additional modules.\n",
        "\n",
        "\n"
      ],
      "metadata": {
        "id": "Tn-qC2LuN7u1"
      }
    },
    {
      "cell_type": "markdown",
      "source": [
        "7. **What is a heatmap, and when should it be used**  \n",
        "\n",
        "    -  A heatmap is a data visualization technique that represents numerical values in a matrix (or 2D array) using color gradients. It helps to quickly spot patterns, correlations, and outliers in datasets.\n",
        "\n",
        " **Key Characteristics of a Heatmap**:\n",
        "\n",
        "Rows and columns represent two categorical variables (e.g., countries vs. years).\n",
        "\n",
        "The color intensity shows the magnitude of values — usually from cool colors (low values) to warm colors (high values).\n",
        "\n",
        "Often used with annotated values (numbers shown inside the cells).\n",
        "\n",
        " **When Should You Use a Heatmap**\n",
        "\n",
        "Use a heatmap when you want to:\n",
        "\n",
        "Visualize correlation between variables\n",
        "\n",
        "E.g., sns.heatmap(df.corr()) shows correlation between numeric features in a DataFrame.\n",
        "\n",
        "Analyze patterns in a 2D matrix\n",
        "\n",
        "E.g., sales data over months across different regions.\n",
        "\n",
        "Identify high/low intensity zones\n",
        "\n",
        "E.g., where customers are spending most time on a webpage (in web heatmaps).\n",
        "\n",
        "Make large datasets easier to interpret\n",
        "\n",
        "Easier to find trends than raw tables of numbers."
      ],
      "metadata": {
        "id": "8DL4immFQW_f"
      }
    },
    {
      "cell_type": "markdown",
      "source": [
        "8. **What does the term “vectorized operation” mean in NumPy**\n",
        "\n",
        "     In NumPy, a vectorized operation refers to performing operations on entire arrays (vectors, matrices, etc.) without using explicit loops. This is made possible by underlying optimized C code, making the operations faster and more efficient than traditional Python loops.\n",
        "\n",
        " **Key Features of Vectorized Operations:**\n",
        "\n",
        "Performance: Much faster than using loops.\n",
        "\n",
        "Readability: Cleaner and more concise code.\n",
        "\n",
        "Memory Efficiency: Reduced overhead compared to loop-based approaches.\n",
        "\n",
        "\n",
        "\n",
        "\n",
        "\n",
        "\n",
        "\n",
        "\n",
        "\n",
        "\n",
        "\n",
        "\n",
        "\n",
        "\n",
        "\n",
        "\n",
        "\n",
        "\n",
        "9.   **How does Matplotlib differ from Plotly**  \n",
        "\n",
        "     Matplotlib and Plotly are both powerful Python libraries used for data visualization, but they differ in style, interactivity, complexity, and use cases.\n",
        "\n",
        "     Key Differences Between Matplotlib and Plotly  \n",
        "\n",
        "          Feature\t                Matplotlib\t                        Plotly\n",
        "      \n",
        "         Type\t               2D plotting library\t       Interactive web-based plotting library\n",
        "         \n",
        "         Interactivity\t      Static plots \t           Fully interactive (zoom, hover, click)  \n",
        "                              (non-interactive by default)\n",
        "         \n",
        "         Ease of Use\t       Steeper learning curve\t     More user-friendly for interactive charts\n",
        "\n",
        "         Customization\t      Highly customizable\t      Also customizable, with modern styles\n",
        "\n",
        "         Output Format\t      Images (PNG, PDF, etc.)\t   HTML (great for web apps and dashboards)\n",
        "    \n",
        "          3D Plots\t       Basic 3D via mpl_toolkits.mplot3d\tBuilt-in advanced 3D support\n",
        "\n",
        "          Animations\t        Supported but complex\t     Easier with built-in animation tools\n",
        "\n",
        "          Integration\t       Works well with Jupyter, scripts, etc.\tGreat for web apps (Dash, HTML export)\n",
        "   \n",
        "          Best Use Cases\t   Quick visualizations, publications\tInteractive dashboards, reports, presentations\n",
        "\n",
        "\n"
      ],
      "metadata": {
        "id": "HJmUmIH6RPR8"
      }
    },
    {
      "cell_type": "markdown",
      "source": [
        "10.  **What is the significance of hierarchical indexing in Pandas**  \n",
        "\n",
        "    -  Hierarchical indexing (also known as multi-level indexing) in Pandas is a powerful feature that allows you to work with multiple index levels on rows (and/or columns) of a DataFrame or Series. This enables more complex data representations and easier data analysis when working with high-dimensional data in a 2D structure.\n",
        "\n",
        "\n",
        "   **Significance of Hierarchical Indexing**\n",
        "   \n",
        "Representation of higher-dimensional data in a 2D structure.\n",
        "\n",
        "Flexible data selection using multiple keys.\n",
        "\n",
        "Convenient reshaping and slicing of data (e.g., using stack(), unstack()).\n",
        "\n",
        "Improved grouping and aggregation with methods like groupby()."
      ],
      "metadata": {
        "id": "h9HFfPYaX2od"
      }
    },
    {
      "cell_type": "markdown",
      "source": [
        "11. **What is the role of Seaborn’s pairplot() function**  \n",
        "\n",
        "     -  The pairplot() function in Seaborn is used to create a grid of scatter plots for visualizing the pairwise relationships between numeric variables in a dataset, along with histograms or KDE plots on the diagonals.\n",
        "\n",
        "\n",
        "  **Key Features of pairplot():**\n",
        "  \n",
        "Pairwise scatter plots for all combinations of numeric columns.\n",
        "\n",
        "Diagonal plots show distributions (histogram or KDE) for each variable.\n",
        "\n",
        "Optionally hue-based coloring to separate classes or groups.\n",
        "\n",
        "Helps to quickly explore relationships and detect patterns or outliers."
      ],
      "metadata": {
        "id": "Wq4_k5KEatAU"
      }
    },
    {
      "cell_type": "markdown",
      "source": [
        "12.  **What is the purpose of the describe() function in Pandas**  \n",
        "\n",
        "     - The describe() function in Pandas provides a summary of descriptive statistics for numerical (and optionally categorical) columns in a DataFrame or Series.\n",
        "\n",
        " **Purpose of describe():**\n",
        "\n",
        "To quickly understand the distribution and spread of your data by showing statistics like:\n",
        "\n",
        "count – Number of non-null entries\n",
        "\n",
        "mean – Average value\n",
        "\n",
        "std – Standard deviation\n",
        "\n",
        "min – Minimum value\n",
        "\n",
        "25% – First quartile (Q1)\n",
        "\n",
        "50% – Median (Q2)\n",
        "\n",
        "75% – Third quartile (Q3)\n",
        "\n",
        "max – Maximum value\n",
        "\n"
      ],
      "metadata": {
        "id": "nILN55oXcy7o"
      }
    },
    {
      "cell_type": "markdown",
      "source": [
        "**13. Why is handling missing data important in Pandas**  \n",
        "\n",
        "   -  Handling missing data in Pandas is crucial because missing values can significantly affect the accuracy, reliability, and outcome of data analysis and machine learning models.\n",
        "\n",
        "   **Why It’s Important:**\n",
        "\n",
        "1.  **Ensures Accurate Analysis**\n",
        "Missing data can:\n",
        "\n",
        "Distort statistical summaries (like mean, median)\n",
        "\n",
        "Mislead insights from visualizations or models\n",
        "\n",
        "2.  **Prevents Errors in Computations**\n",
        "\n",
        "Operations like aggregations or mathematical calculations may:\n",
        "\n",
        "Return NaN if not handled\n",
        "\n",
        "Raise errors in functions that expect complete data\n",
        "\n",
        "3.  **Improves Model Performance**\n",
        "\n",
        "Many machine learning algorithms:\n",
        "\n",
        "Do not accept missing values\n",
        "\n",
        "Need clean, complete datasets to make reliable predictions\n",
        "\n",
        "4.  **Enables Better Decision-Making**\n",
        "\n",
        "Decisions based on incomplete or unclean data can lead to:\n",
        "\n",
        "Wrong conclusions\n",
        "\n",
        "Faulty business or scientific decisions"
      ],
      "metadata": {
        "id": "XLzGILOEdZuK"
      }
    },
    {
      "cell_type": "markdown",
      "source": [
        "14.  **What are the benefits of using Plotly for data visualization**\n",
        "\n",
        "    -  Plotly is a powerful and flexible data visualization library in Python that offers several benefits, especially for interactive and web-based visualizations.\n",
        "\n",
        "\n",
        "   **Benefits of Using Plotl**y\n",
        "\n",
        "1.  **Interactivity by Default**\n",
        "\n",
        "Zoom, pan, hover tooltips, and dynamic legends are built-in.\n",
        "\n",
        "Great for dashboards and exploratory data analysis.\n",
        "\n",
        "2.  **Web-Ready Visualizations**\n",
        "\n",
        "Outputs can be embedded in HTML or Jupyter Notebooks.\n",
        "\n",
        "Compatible with Dash for building web apps.\n",
        "\n",
        "3.  **High-Quality, Publication-Ready Charts**\n",
        "\n",
        "Clean, attractive visual style.\n",
        "\n",
        "Supports custom themes and styles.\n",
        "\n",
        "4.  **Wide Variety of Charts**\n",
        "\n",
        "Basic: Line, bar, scatter, pie.\n",
        "\n",
        "Advanced: 3D plots, heatmaps, maps, animations, and candlestick charts.\n",
        "\n",
        "5.   **Integration with Pandas & NumPy**\n",
        "\n",
        "Easily plot data from DataFrames.\n",
        "\n",
        "plotly.express provides a concise syntax similar to Seaborn.\n",
        "\n",
        "6.  **Customization & Control**\n",
        "\n",
        "Full control over axes, annotations, colors, layout, and more.\n",
        "\n",
        "Layered approach: simple with plotly.express, powerful with plotly.graph_objects.\n",
        "\n",
        "7.  **Supports Animation**\n",
        "\n",
        "Create animated plots to visualize changes over time, e.g., in time-series or simulation data.\n",
        "\n",
        "8.  **Responsive and Mobile-Friendly**\n",
        "\n",
        "Visualizations automatically scale for different screen sizes.\n",
        "\n"
      ],
      "metadata": {
        "id": "xMMlKjL-ej_u"
      }
    },
    {
      "cell_type": "markdown",
      "source": [
        "15.  **How does NumPy handle multidimensional arrays**  \n",
        "\n",
        "   -  NumPy handles multidimensional arrays using its core data structure called the ndarray (n-dimensional array). These arrays allow efficient storage and manipulation of large datasets in multiple dimensions (1D, 2D, 3D, ...).\n",
        "\n",
        "     **Key Features of NumPy Multidimensional Arrays**\n",
        "\n",
        "     1.  N-Dimensional Structure\n",
        "\n",
        "     2.  Shape and Dimensions\n",
        "\n",
        "     3.  Efficient Element Access\n",
        "\n",
        "     4.  Vectorized Operations\n",
        "\n",
        "     5.  Reshaping and Transposing\n",
        "\n",
        "     6.  Axis-Based Operations\n",
        "\n",
        "     "
      ],
      "metadata": {
        "id": "-iFUSFAGgC-4"
      }
    },
    {
      "cell_type": "markdown",
      "source": [
        "16. **What is the role of Bokeh in data visualization**  \n",
        "\n",
        "     -  Bokeh is a powerful interactive data visualization library in Python, designed primarily for creating browser-based visualizations. It is especially useful for building dynamic, interactive, and real-time dashboards and plots that can be embedded into web applications.\n",
        "\n",
        "\n",
        "   **Role of Bokeh in Data Visualization**\n",
        "\n",
        " 1. Interactive Plots\n",
        "\n",
        "Bokeh provides tools like hover, zoom, pan, tap, etc., which allow users to explore data interactively.\n",
        "\n",
        "Example: Hovering over a point can show a tooltip with data details.\n",
        "\n",
        " 2. Web Integration\n",
        "\n",
        "Bokeh outputs visualizations as HTML, JSON, or JavaScript, making it easy to embed in web apps or Jupyter notebooks.\n",
        "\n",
        "Compatible with Flask, Django, and Jupyter for dashboard and app development.\n",
        "\n",
        " 3. High Performance with Large Data\n",
        "\n",
        "Designed to handle large streaming datasets efficiently using the Bokeh server for real-time interactivity.\n",
        "\n",
        " 4. Customizable Visuals\n",
        "\n",
        "Offers full control over styling, annotations, layout, and widgets like sliders, dropdowns, and buttons for interactive UIs.\n",
        "\n",
        " 5. Linked Plots\n",
        "\n",
        "You can link multiple plots so that tools (like zoom or hover) affect all of them simultaneously — great for comparisons.\n",
        "\n",
        " 6. Supports Streaming & Real-Time Data\n",
        "\n",
        "Ideal for dynamic dashboards that update in real-time, such as stock tickers, sensor readings, or live user data.\n",
        "\n"
      ],
      "metadata": {
        "id": "mpzED7oQhcCG"
      }
    },
    {
      "cell_type": "markdown",
      "source": [
        "17.   **Explain the difference between apply() and map() in Pandas.**  \n",
        "\n",
        "  -  In Pandas, both apply() and map() are used to apply functions to data, but they differ in how, where, and what they operate on.\n",
        "\n",
        "\n",
        "\n",
        "   **map() — Used for Series (1D)**\n",
        "\n",
        "Applies a function element-wise to a Series (one column).\n",
        "\n",
        "Works with:\n",
        "\n",
        "Functions (lambda, def, etc.)\n",
        "\n",
        "Dictionaries (for mapping values)\n",
        "\n",
        "Series (for aligning indexes)   \n",
        "\n",
        "**apply() — Used for Series or DataFrame (1D or 2D)**\n",
        "\n",
        "Can apply a function to:\n",
        "\n",
        "Each element in a Series (like map)\n",
        "\n",
        "Each row or column in a DataFrame"
      ],
      "metadata": {
        "id": "NqPScqdfi2Uh"
      }
    },
    {
      "cell_type": "markdown",
      "source": [
        "18.  **What are some advanced features of NumPy**  \n",
        "\n",
        "   NumPy is a powerful library for numerical computing in Python, and it offers several advanced features that go beyond basic array creation and manipulation.\n",
        "\n",
        "\n",
        "  1. Broadcasting\n",
        "\n",
        "Allows arithmetic operations on arrays of different shapes.\n",
        "\n",
        "Automatically expands the smaller array without copying data.\n",
        "\n",
        " 2. Vectorization\n",
        "\n",
        "Performs operations on entire arrays without explicit loops (faster execution).\n",
        "\n",
        "  3. Memory-efficient Views\n",
        "\n",
        "ndarray.view() allows you to create new views of the same data without copying it.\n",
        "\n",
        " 4. Masked Arrays\n",
        "\n",
        "numpy.ma handles missing or invalid entries using masks  \n",
        "\n",
        " 5. Structured Arrays\n",
        "\n",
        "Allows different data types in one array (like a table).\n",
        "\n",
        " 6. Fancy Indexing\n",
        "\n",
        "Use arrays/lists as indices to access or modify array elements.\n",
        "\n",
        " 7. Advanced Linear Algebra Support\n",
        "\n",
        "numpy.linalg provides operations like:\n",
        "\n",
        "Inverse: np.linalg.inv()\n",
        "\n",
        "Determinant: np.linalg.det()\n",
        "\n",
        "Eigenvalues/vectors: np.linalg.eig()\n",
        "\n",
        "  8. Fourier Transform and Signal Processing\n",
        "\n",
        "numpy.fft handles fast Fourier transforms (FFT).\n",
        "\n",
        "\n",
        "  9. Random Number Generation\n",
        "\n",
        "numpy.random offers:\n",
        "\n",
        "Distributions: normal, binomial, poisson, etc.\n",
        "\n",
        "Random permutations and sampling.  \n",
        "\n",
        "10. Memory Mapping Large Files\n",
        "\n",
        "Efficiently load part of a large binary file without reading it all.\n",
        "\n",
        "\n",
        "\n",
        "\n"
      ],
      "metadata": {
        "id": "8ct6A_H2kWCI"
      }
    },
    {
      "cell_type": "markdown",
      "source": [
        "19. **How does Pandas simplify time series analysis**\n",
        "\n",
        "   -  Pandas simplifies time series analysis significantly by providing specialized tools for date/time handling, indexing, resampling, frequency conversion, and rolling statistics — all with clean, high-level syntax.\n",
        "\n",
        "   1. DateTime Indexing\n",
        "\n",
        "Time-based indexing allows you to select, slice, and filter data by dates easily.\n",
        "\n",
        "  2. Built-in Date Parsing\n",
        "\n",
        "Automatically converts date strings to datetime objects using pd.to_datetime().\n",
        "\n",
        "  3. Frequency & Date Range Generation\n",
        "\n",
        "Quickly create custom time series with pd.date_range() or pd.timedelta_range().\n",
        "\n",
        "  4. Resampling (Downsampling/Upsampling)\n",
        "\n",
        "Change the frequency of your data and perform aggregation or interpolation.\n",
        "\n",
        "  5. Rolling Window Calculations\n",
        "\n",
        "Moving averages, rolling sums, etc., are easy with .rolling().\n",
        "\n",
        "6. Time Zone Handling\n",
        "\n",
        "Pandas supports time zone conversion and aware timestamps.\n",
        "\n",
        " 7. Shifting and Lagging\n",
        "\n",
        "Shift time series data forward or backward with .shift().\n",
        "\n",
        "  8. Period and Timedelta Support\n",
        "\n",
        "Supports period-based indexing (e.g., quarterly, monthly).\n",
        "\n",
        "  9. Handling Missing Time Series Data\n",
        "\n",
        "Fill missing dates, forward/backward fill values with .reindex(), .ffill(), .bfill().\n",
        "\n",
        "10. Easy Plotting\n",
        "\n",
        "Quick line plots of time series using .plot() (via Matplotlib).\n",
        ""
      ],
      "metadata": {
        "id": "7Ty7b3mzmwbG"
      }
    },
    {
      "cell_type": "markdown",
      "source": [
        "20.  **What is the role of a pivot table in Pandas**\n",
        "\n",
        "     The role of a pivot table in Pandas is to summarize, group, and reshape data efficiently — especially useful for analyzing large datasets and drawing meaningful insights.\n",
        "\n",
        "      **Pivot Table**\n",
        "\n",
        "A pivot table in Pandas is created using the DataFrame.pivot_table() method. It allows you to:\n",
        "\n",
        "Aggregate data (sum, mean, count, etc.)\n",
        "\n",
        "Rearrange columns and rows\n",
        "\n",
        "Perform multi-level grouping\n",
        "\n",
        "Create cross-tabulations (like in Excel)"
      ],
      "metadata": {
        "id": "ulUYCKOnolsK"
      }
    },
    {
      "cell_type": "markdown",
      "source": [
        "21.   **Why is NumPy’s array slicing faster than Python’s list slicing**\n",
        "\n",
        "     NumPy’s array slicing is significantly faster than Python’s list slicing because of key differences in memory layout, implementation, and data type handling.\n",
        "      \n",
        "      1. Contiguous Memory and Fixed Data Types\n",
        "NumPy arrays are stored in contiguous blocks of memory and all elements are of the same fixed data type (e.g., int32, float64).\n",
        "\n",
        "This allows fast, low-level memory access using C-level pointer arithmetic.\n",
        "\n",
        "🔁 Python lists are arrays of pointers to objects (not raw values), so slicing involves copying references one-by-one — slower and less memory-efficient.\n",
        "\n",
        "✅ 2. No Data Copying in Slicing (View, not Copy)\n",
        "NumPy slicing returns a view of the original array — no data is actually copied.\n",
        "\n",
        "\n",
        "     import numpy as np\n",
        "     a = np.array([1, 2, 3, 4])\n",
        "     b = a[1:3]  # b is a view\n",
        "     b[0] = 99\n",
        "     print(a)  # [1 99 3 4]\n",
        "\n",
        "  Python list slicing creates a new copy of the data, which is slower and consumes more memory.\n",
        "  \n",
        "\n",
        " 3. Vectorized Backend (C/Fortran)\n",
        "\n",
        "NumPy is implemented in C and Fortran, so operations like slicing are handled at the compiled level — no Python interpreter overhead.\n",
        "\n",
        "Python lists rely on Python loops and reference management, which are slow.\n",
        "\n",
        " 4. Cache Efficiency\n",
        "\n",
        "NumPy arrays’ contiguous memory layout makes them cache-friendly, improving performance during bulk operations and slicing.\n",
        "\n",
        " 5. No Type Checking per Element\n",
        "\n",
        "NumPy arrays already know the data type of every element.\n",
        "\n",
        "Python lists must check the type of each element during slicing (since they can contain mixed types), adding overhead."
      ],
      "metadata": {
        "id": "spK1XL-rp1iO"
      }
    },
    {
      "cell_type": "markdown",
      "source": [
        "22.  **What are some common use cases for Seaborn**    \n",
        "\n",
        "     -  Seaborn is a powerful Python data visualization library built on top of Matplotlib and tightly integrated with Pandas. It simplifies the creation of complex and attractive statistical graphics with just a few lines of code.\n",
        "\n",
        "      1. Visualizing Distributions\n",
        "\n",
        "Seaborn makes it easy to explore data distributions.\n",
        "\n",
        "Histogram & KDE\n",
        "\n",
        "       import seaborn as sns\n",
        "      sns.histplot(data=df, x=\"column\", kde=True)\n",
        "\n",
        "\n",
        "Box Plot / Violin Plot:\n",
        "\n",
        "       sns.boxplot(x=\"category\", y=\"value\", data=df)\n",
        "       sns.violinplot(x=\"category\", y=\"value\", data=df)\n",
        "\n",
        "2. Comparing Categories\n",
        "\n",
        "Perfect for visualizing relationships between numeric and categorical variables.\n",
        "\n",
        "Bar Plot / Count Plot:  \n",
        "     \n",
        "         sns.barplot(x=\"category\", y=\"value\", data=df)\n",
        "         sns.countplot(x=\"category\", data=df)\n",
        "    \n",
        "3. Correlation and Relationships\n",
        "\n",
        "Seaborn helps understand relationships between multiple variables.\n",
        "\n",
        "Scatter Plot with Regression Line:  \n",
        "\n",
        "      sns.lmplot(x=\"x_column\", y=\"y_column\", data=df)\n",
        "\n",
        " Pair Plot (pairwise plots for all variables):\n",
        "\n",
        "        sns.pairplot(df)\n",
        "\n",
        "  \n",
        "  Heatmap for Correlation Matrix:  \n",
        "\n",
        "      corr = df.corr()\n",
        "      sns.heatmap(corr, annot=True, cmap=\"coolwarm\")\n",
        "\n",
        "4. Time Series Analysis  \n",
        "\n",
        " Plot trends over time with built-in support for datetime objects.\n",
        "\n",
        "       sns.lineplot(x=\"date\", y=\"value\", data=df)\n",
        "\n",
        "\n",
        "5. Multivariate Analysis\n",
        "\n",
        "  Hue, Size, and Style arguments add multiple dimensions to a plot:\n",
        "\n",
        "       sns.scatterplot(x=\"x\", y=\"y\", hue=\"category\", size=\"size_col\", data=df)\n",
        "\n",
        "6. Faceting (Small Multiples)\n",
        "\n",
        "Create grids of plots for subgroups with FacetGrid or catplot():\n",
        "\n",
        "      sns.catplot(x=\"x\", y=\"y\", col=\"category\", data=df, kind=\"box\")\n",
        "\n",
        "7. Data Exploration and EDA\n",
        "\n",
        "Seaborn is heavily used for Exploratory Data Analysis (EDA) to detect patterns, outliers, and trends before modeling.\n",
        "\n",
        "8. Customization and Aesthetics\n",
        "\n",
        "Automatically applies attractive themes, styles, and palettes:  \n",
        "\n",
        "\n",
        "\n",
        "\n"
      ],
      "metadata": {
        "id": "3-myZyHorJTp"
      }
    },
    {
      "cell_type": "markdown",
      "source": [],
      "metadata": {
        "id": "qoz3bNs1vP6m"
      }
    },
    {
      "cell_type": "code",
      "execution_count": null,
      "metadata": {
        "id": "Z8OKZXM1GY_l"
      },
      "outputs": [],
      "source": []
    },
    {
      "cell_type": "markdown",
      "source": [
        "#               Practical\n",
        "\n",
        "\n",
        "---\n",
        "\n",
        "\n",
        "\n",
        "---\n",
        "\n"
      ],
      "metadata": {
        "id": "4FSKzr8BvX6H"
      }
    },
    {
      "cell_type": "markdown",
      "source": [
        "1. How do you create a 2D NumPy array and calculate the sum of each row."
      ],
      "metadata": {
        "id": "erUTJdoJv--S"
      }
    },
    {
      "cell_type": "code",
      "source": [
        "import numpy as np\n",
        "\n",
        "# Step 1: Create a 2D NumPy array\n",
        "array_2d = np.array([\n",
        "    [1, 2, 3],\n",
        "    [4, 5, 6],\n",
        "    [7, 8, 9]\n",
        "])\n",
        "\n",
        "# Step 2: Calculate the sum of each row\n",
        "row_sums = np.sum(array_2d, axis=1)\n",
        "\n",
        "print(\"2D Array:\")\n",
        "print(array_2d)\n",
        "\n",
        "print(\"\\nSum of each row:\")\n",
        "print(row_sums)"
      ],
      "metadata": {
        "colab": {
          "base_uri": "https://localhost:8080/"
        },
        "id": "qzeynuyEwme7",
        "outputId": "63cfe10f-70b4-4d8f-c0ce-27e7effc2e68"
      },
      "execution_count": 1,
      "outputs": [
        {
          "output_type": "stream",
          "name": "stdout",
          "text": [
            "2D Array:\n",
            "[[1 2 3]\n",
            " [4 5 6]\n",
            " [7 8 9]]\n",
            "\n",
            "Sum of each row:\n",
            "[ 6 15 24]\n"
          ]
        }
      ]
    },
    {
      "cell_type": "markdown",
      "source": [
        "2. Write a Pandas script to find the mean of a specific column in a DataFrame"
      ],
      "metadata": {
        "id": "Yvbd6hiHwps0"
      }
    },
    {
      "cell_type": "code",
      "source": [
        "import pandas as pd\n",
        "\n",
        "# Create a sample DataFrame\n",
        "data = {\n",
        "    'Name': ['Alice', 'Bob', 'Charlie', 'David'],\n",
        "    'Age': [25, 30, 35, 40],\n",
        "    'Salary': [50000, 60000, 70000, 80000]\n",
        "}\n",
        "\n",
        "df = pd.DataFrame(data)\n",
        "\n",
        "# Calculate the mean of the 'Salary' column\n",
        "salary_mean = df['Salary'].mean()\n",
        "\n",
        "print(\"Mean Salary:\", salary_mean)"
      ],
      "metadata": {
        "colab": {
          "base_uri": "https://localhost:8080/"
        },
        "id": "UxpCHuzHvxqs",
        "outputId": "7ee6d254-beec-4a7b-972c-d9cebb23cc8c"
      },
      "execution_count": 2,
      "outputs": [
        {
          "output_type": "stream",
          "name": "stdout",
          "text": [
            "Mean Salary: 65000.0\n"
          ]
        }
      ]
    },
    {
      "cell_type": "markdown",
      "source": [
        "3. Create a scatter plot using Matplotlib."
      ],
      "metadata": {
        "id": "AfcYEaSEw5yl"
      }
    },
    {
      "cell_type": "code",
      "source": [
        "import matplotlib.pyplot as plt\n",
        "\n",
        "# Sample data\n",
        "x = [10, 20, 30, 40, 50]\n",
        "y = [100, 200, 150, 300, 250]\n",
        "\n",
        "# Create the scatter plot\n",
        "plt.scatter(x, y, color='blue', marker='o')\n",
        "\n",
        "# Add labels and title\n",
        "plt.xlabel(\"X-axis\")\n",
        "plt.ylabel(\"Y-axis\")\n",
        "plt.title(\"Simple Scatter Plot\")\n",
        "\n",
        "# Show the plot\n",
        "plt.show()"
      ],
      "metadata": {
        "colab": {
          "base_uri": "https://localhost:8080/",
          "height": 472
        },
        "id": "Llw-qPB2w4m9",
        "outputId": "ce577f20-f7c1-47eb-eafe-4f60cfd447dd"
      },
      "execution_count": 3,
      "outputs": [
        {
          "output_type": "display_data",
          "data": {
            "text/plain": [
              "<Figure size 640x480 with 1 Axes>"
            ],
            "image/png": "[encoded data removed]"
          },
          "metadata": {}
        }
      ]
    },
    {
      "cell_type": "markdown",
      "source": [
        "4.   How do you calculate the correlation matrix using Seaborn and visualize it with a heatmap."
      ],
      "metadata": {
        "id": "ho7gYuNlxNgq"
      }
    },
    {
      "cell_type": "code",
      "source": [
        "import pandas as pd\n",
        "import seaborn as sns\n",
        "import matplotlib.pyplot as plt\n",
        "\n",
        "# Sample DataFrame\n",
        "data = {\n",
        "    'Math': [90, 80, 70, 60, 75],\n",
        "    'Physics': [85, 78, 72, 65, 70],\n",
        "    'Chemistry': [88, 76, 74, 60, 72],\n",
        "    'English': [70, 75, 80, 85, 90]\n",
        "}\n",
        "\n",
        "df = pd.DataFrame(data)\n",
        "\n",
        "# Step 1: Calculate the correlation matrix\n",
        "corr_matrix = df.corr()\n",
        "\n",
        "# Step 2: Create a heatmap\n",
        "plt.figure(figsize=(8, 6))\n",
        "sns.heatmap(corr_matrix, annot=True, cmap='coolwarm', linewidths=0.5)\n",
        "\n",
        "# Step 3: Add title\n",
        "plt.title(\"Correlation Matrix Heatmap\")\n",
        "plt.show()"
      ],
      "metadata": {
        "colab": {
          "base_uri": "https://localhost:8080/",
          "height": 545
        },
        "id": "tOMg7lOpxKVP",
        "outputId": "0b73cc50-c147-4faf-eb1f-af8e5feee1d4"
      },
      "execution_count": 4,
      "outputs": [
        {
          "output_type": "display_data",
          "data": {
            "text/plain": [
              "<Figure size 800x600 with 2 Axes>"
            ],
            "image/png": "[encoded data removed]"
          },
          "metadata": {}
        }
      ]
    },
    {
      "cell_type": "markdown",
      "source": [
        "5.  Generate a bar plot using Plotly."
      ],
      "metadata": {
        "id": "zIjRlCKSxmYi"
      }
    },
    {
      "cell_type": "code",
      "source": [
        "import plotly.express as px\n",
        "import pandas as pd\n",
        "\n",
        "# Sample data\n",
        "data = {\n",
        "    'Fruits': ['Apples', 'Bananas', 'Cherries', 'Dates'],\n",
        "    'Quantity': [40, 25, 30, 15]\n",
        "}\n",
        "\n",
        "df = pd.DataFrame(data)\n",
        "\n",
        "# Create the bar plot\n",
        "fig = px.bar(df, x='Fruits', y='Quantity', title='Fruit Sales', color='Fruits')\n",
        "\n",
        "# Show the plot\n",
        "fig.show()"
      ],
      "metadata": {
        "colab": {
          "base_uri": "https://localhost:8080/",
          "height": 542
        },
        "id": "i2ugSeoexi7U",
        "outputId": "00417c54-c8b7-41f4-dc94-1d7703b44c43"
      },
      "execution_count": 5,
      "outputs": [
        {
          "output_type": "display_data",
          "data": {
            "text/html": [
              "<html>\n",
              "<head><meta charset=\"utf-8\" /></head>\n",
              "<body>\n",
              "    <div>            <script src=\"https://cdnjs.cloudflare.com/ajax/libs/mathjax/2.7.5/MathJax.js?config=TeX-AMS-MML_SVG\"></script><script type=\"text/javascript\">if (window.MathJax && window.MathJax.Hub && window.MathJax.Hub.Config) {window.MathJax.Hub.Config({SVG: {font: \"STIX-Web\"}});}</script>                <script type=\"text/javascript\">window.PlotlyConfig = {MathJaxConfig: 'local'};</script>\n",
              "        <script charset=\"utf-8\" src=\"https://cdn.plot.ly/plotly-2.35.2.min.js\"></script>                <div id=\"65011254-4aa3-4bc4-96c0-0068e642ffc6\" class=\"plotly-graph-div\" style=\"height:525px; width:100%;\"></div>            <script type=\"text/javascript\">                                    window.PLOTLYENV=window.PLOTLYENV || {};                                    if (document.getElementById(\"65011254-4aa3-4bc4-96c0-0068e642ffc6\")) {                    Plotly.newPlot(                        \"65011254-4aa3-4bc4-96c0-0068e642ffc6\",                        [{\"alignmentgroup\":\"True\",\"hovertemplate\":\"Fruits=%{x}\\u003cbr\\u003eQuantity=%{y}\\u003cextra\\u003e\\u003c\\u002fextra\\u003e\",\"legendgroup\":\"Apples\",\"marker\":{\"color\":\"#636efa\",\"pattern\":{\"shape\":\"\"}},\"name\":\"Apples\",\"offsetgroup\":\"Apples\",\"orientation\":\"v\",\"showlegend\":true,\"textposition\":\"auto\",\"x\":[\"Apples\"],\"xaxis\":\"x\",\"y\":[40],\"yaxis\":\"y\",\"type\":\"bar\"},{\"alignmentgroup\":\"True\",\"hovertemplate\":\"Fruits=%{x}\\u003cbr\\u003eQuantity=%{y}\\u003cextra\\u003e\\u003c\\u002fextra\\u003e\",\"legendgroup\":\"Bananas\",\"marker\":{\"color\":\"#EF553B\",\"pattern\":{\"shape\":\"\"}},\"name\":\"Bananas\",\"offsetgroup\":\"Bananas\",\"orientation\":\"v\",\"showlegend\":true,\"textposition\":\"auto\",\"x\":[\"Bananas\"],\"xaxis\":\"x\",\"y\":[25],\"yaxis\":\"y\",\"type\":\"bar\"},{\"alignmentgroup\":\"True\",\"hovertemplate\":\"Fruits=%{x}\\u003cbr\\u003eQuantity=%{y}\\u003cextra\\u003e\\u003c\\u002fextra\\u003e\",\"legendgroup\":\"Cherries\",\"marker\":{\"color\":\"#00cc96\",\"pattern\":{\"shape\":\"\"}},\"name\":\"Cherries\",\"offsetgroup\":\"Cherries\",\"orientation\":\"v\",\"showlegend\":true,\"textposition\":\"auto\",\"x\":[\"Cherries\"],\"xaxis\":\"x\",\"y\":[30],\"yaxis\":\"y\",\"type\":\"bar\"},{\"alignmentgroup\":\"True\",\"hovertemplate\":\"Fruits=%{x}\\u003cbr\\u003eQuantity=%{y}\\u003cextra\\u003e\\u003c\\u002fextra\\u003e\",\"legendgroup\":\"Dates\",\"marker\":{\"color\":\"#ab63fa\",\"pattern\":{\"shape\":\"\"}},\"name\":\"Dates\",\"offsetgroup\":\"Dates\",\"orientation\":\"v\",\"showlegend\":true,\"textposition\":\"auto\",\"x\":[\"Dates\"],\"xaxis\":\"x\",\"y\":[15],\"yaxis\":\"y\",\"type\":\"bar\"}],                        {\"template\":{\"data\":{\"histogram2dcontour\":[{\"type\":\"histogram2dcontour\",\"colorbar\":{\"outlinewidth\":0,\"ticks\":\"\"},\"colorscale\":[[0.0,\"#0d0887\"],[0.1111111111111111,\"#46039f\"],[0.2222222222222222,\"#7201a8\"],[0.3333333333333333,\"#9c179e\"],[0.4444444444444444,\"#bd3786\"],[0.5555555555555556,\"#d8576b\"],[0.6666666666666666,\"#ed7953\"],[0.7777777777777778,\"#fb9f3a\"],[0.8888888888888888,\"#fdca26\"],[1.0,\"#f0f921\"]]}],\"choropleth\":[{\"type\":\"choropleth\",\"colorbar\":{\"outlinewidth\":0,\"ticks\":\"\"}}],\"histogram2d\":[{\"type\":\"histogram2d\",\"colorbar\":{\"outlinewidth\":0,\"ticks\":\"\"},\"colorscale\":[[0.0,\"#0d0887\"],[0.1111111111111111,\"#46039f\"],[0.2222222222222222,\"#7201a8\"],[0.3333333333333333,\"#9c179e\"],[0.4444444444444444,\"#bd3786\"],[0.5555555555555556,\"#d8576b\"],[0.6666666666666666,\"#ed7953\"],[0.7777777777777778,\"#fb9f3a\"],[0.8888888888888888,\"#fdca26\"],[1.0,\"#f0f921\"]]}],\"heatmap\":[{\"type\":\"heatmap\",\"colorbar\":{\"outlinewidth\":0,\"ticks\":\"\"},\"colorscale\":[[0.0,\"#0d0887\"],[0.1111111111111111,\"#46039f\"],[0.2222222222222222,\"#7201a8\"],[0.3333333333333333,\"#9c179e\"],[0.4444444444444444,\"#bd3786\"],[0.5555555555555556,\"#d8576b\"],[0.6666666666666666,\"#ed7953\"],[0.7777777777777778,\"#fb9f3a\"],[0.8888888888888888,\"#fdca26\"],[1.0,\"#f0f921\"]]}],\"heatmapgl\":[{\"type\":\"heatmapgl\",\"colorbar\":{\"outlinewidth\":0,\"ticks\":\"\"},\"colorscale\":[[0.0,\"#0d0887\"],[0.1111111111111111,\"#46039f\"],[0.2222222222222222,\"#7201a8\"],[0.3333333333333333,\"#9c179e\"],[0.4444444444444444,\"#bd3786\"],[0.5555555555555556,\"#d8576b\"],[0.6666666666666666,\"#ed7953\"],[0.7777777777777778,\"#fb9f3a\"],[0.8888888888888888,\"#fdca26\"],[1.0,\"#f0f921\"]]}],\"contourcarpet\":[{\"type\":\"contourcarpet\",\"colorbar\":{\"outlinewidth\":0,\"ticks\":\"\"}}],\"contour\":[{\"type\":\"contour\",\"colorbar\":{\"outlinewidth\":0,\"ticks\":\"\"},\"colorscale\":[[0.0,\"#0d0887\"],[0.1111111111111111,\"#46039f\"],[0.2222222222222222,\"#7201a8\"],[0.3333333333333333,\"#9c179e\"],[0.4444444444444444,\"#bd3786\"],[0.5555555555555556,\"#d8576b\"],[0.6666666666666666,\"#ed7953\"],[0.7777777777777778,\"#fb9f3a\"],[0.8888888888888888,\"#fdca26\"],[1.0,\"#f0f921\"]]}],\"surface\":[{\"type\":\"surface\",\"colorbar\":{\"outlinewidth\":0,\"ticks\":\"\"},\"colorscale\":[[0.0,\"#0d0887\"],[0.1111111111111111,\"#46039f\"],[0.2222222222222222,\"#7201a8\"],[0.3333333333333333,\"#9c179e\"],[0.4444444444444444,\"#bd3786\"],[0.5555555555555556,\"#d8576b\"],[0.6666666666666666,\"#ed7953\"],[0.7777777777777778,\"#fb9f3a\"],[0.8888888888888888,\"#fdca26\"],[1.0,\"#f0f921\"]]}],\"mesh3d\":[{\"type\":\"mesh3d\",\"colorbar\":{\"outlinewidth\":0,\"ticks\":\"\"}}],\"scatter\":[{\"fillpattern\":{\"fillmode\":\"overlay\",\"size\":10,\"solidity\":0.2},\"type\":\"scatter\"}],\"parcoords\":[{\"type\":\"parcoords\",\"line\":{\"colorbar\":{\"outlinewidth\":0,\"ticks\":\"\"}}}],\"scatterpolargl\":[{\"type\":\"scatterpolargl\",\"marker\":{\"colorbar\":{\"outlinewidth\":0,\"ticks\":\"\"}}}],\"bar\":[{\"error_x\":{\"color\":\"#2a3f5f\"},\"error_y\":{\"color\":\"#2a3f5f\"},\"marker\":{\"line\":{\"color\":\"#E5ECF6\",\"width\":0.5},\"pattern\":{\"fillmode\":\"overlay\",\"size\":10,\"solidity\":0.2}},\"type\":\"bar\"}],\"scattergeo\":[{\"type\":\"scattergeo\",\"marker\":{\"colorbar\":{\"outlinewidth\":0,\"ticks\":\"\"}}}],\"scatterpolar\":[{\"type\":\"scatterpolar\",\"marker\":{\"colorbar\":{\"outlinewidth\":0,\"ticks\":\"\"}}}],\"histogram\":[{\"marker\":{\"pattern\":{\"fillmode\":\"overlay\",\"size\":10,\"solidity\":0.2}},\"type\":\"histogram\"}],\"scattergl\":[{\"type\":\"scattergl\",\"marker\":{\"colorbar\":{\"outlinewidth\":0,\"ticks\":\"\"}}}],\"scatter3d\":[{\"type\":\"scatter3d\",\"line\":{\"colorbar\":{\"outlinewidth\":0,\"ticks\":\"\"}},\"marker\":{\"colorbar\":{\"outlinewidth\":0,\"ticks\":\"\"}}}],\"scattermapbox\":[{\"type\":\"scattermapbox\",\"marker\":{\"colorbar\":{\"outlinewidth\":0,\"ticks\":\"\"}}}],\"scatterternary\":[{\"type\":\"scatterternary\",\"marker\":{\"colorbar\":{\"outlinewidth\":0,\"ticks\":\"\"}}}],\"scattercarpet\":[{\"type\":\"scattercarpet\",\"marker\":{\"colorbar\":{\"outlinewidth\":0,\"ticks\":\"\"}}}],\"carpet\":[{\"aaxis\":{\"endlinecolor\":\"#2a3f5f\",\"gridcolor\":\"white\",\"linecolor\":\"white\",\"minorgridcolor\":\"white\",\"startlinecolor\":\"#2a3f5f\"},\"baxis\":{\"endlinecolor\":\"#2a3f5f\",\"gridcolor\":\"white\",\"linecolor\":\"white\",\"minorgridcolor\":\"white\",\"startlinecolor\":\"#2a3f5f\"},\"type\":\"carpet\"}],\"table\":[{\"cells\":{\"fill\":{\"color\":\"#EBF0F8\"},\"line\":{\"color\":\"white\"}},\"header\":{\"fill\":{\"color\":\"#C8D4E3\"},\"line\":{\"color\":\"white\"}},\"type\":\"table\"}],\"barpolar\":[{\"marker\":{\"line\":{\"color\":\"#E5ECF6\",\"width\":0.5},\"pattern\":{\"fillmode\":\"overlay\",\"size\":10,\"solidity\":0.2}},\"type\":\"barpolar\"}],\"pie\":[{\"automargin\":true,\"type\":\"pie\"}]},\"layout\":{\"autotypenumbers\":\"strict\",\"colorway\":[\"#636efa\",\"#EF553B\",\"#00cc96\",\"#ab63fa\",\"#FFA15A\",\"#19d3f3\",\"#FF6692\",\"#B6E880\",\"#FF97FF\",\"#FECB52\"],\"font\":{\"color\":\"#2a3f5f\"},\"hovermode\":\"closest\",\"hoverlabel\":{\"align\":\"left\"},\"paper_bgcolor\":\"white\",\"plot_bgcolor\":\"#E5ECF6\",\"polar\":{\"bgcolor\":\"#E5ECF6\",\"angularaxis\":{\"gridcolor\":\"white\",\"linecolor\":\"white\",\"ticks\":\"\"},\"radialaxis\":{\"gridcolor\":\"white\",\"linecolor\":\"white\",\"ticks\":\"\"}},\"ternary\":{\"bgcolor\":\"#E5ECF6\",\"aaxis\":{\"gridcolor\":\"white\",\"linecolor\":\"white\",\"ticks\":\"\"},\"baxis\":{\"gridcolor\":\"white\",\"linecolor\":\"white\",\"ticks\":\"\"},\"caxis\":{\"gridcolor\":\"white\",\"linecolor\":\"white\",\"ticks\":\"\"}},\"coloraxis\":{\"colorbar\":{\"outlinewidth\":0,\"ticks\":\"\"}},\"colorscale\":{\"sequential\":[[0.0,\"#0d0887\"],[0.1111111111111111,\"#46039f\"],[0.2222222222222222,\"#7201a8\"],[0.3333333333333333,\"#9c179e\"],[0.4444444444444444,\"#bd3786\"],[0.5555555555555556,\"#d8576b\"],[0.6666666666666666,\"#ed7953\"],[0.7777777777777778,\"#fb9f3a\"],[0.8888888888888888,\"#fdca26\"],[1.0,\"#f0f921\"]],\"sequentialminus\":[[0.0,\"#0d0887\"],[0.1111111111111111,\"#46039f\"],[0.2222222222222222,\"#7201a8\"],[0.3333333333333333,\"#9c179e\"],[0.4444444444444444,\"#bd3786\"],[0.5555555555555556,\"#d8576b\"],[0.6666666666666666,\"#ed7953\"],[0.7777777777777778,\"#fb9f3a\"],[0.8888888888888888,\"#fdca26\"],[1.0,\"#f0f921\"]],\"diverging\":[[0,\"#8e0152\"],[0.1,\"#c51b7d\"],[0.2,\"#de77ae\"],[0.3,\"#f1b6da\"],[0.4,\"#fde0ef\"],[0.5,\"#f7f7f7\"],[0.6,\"#e6f5d0\"],[0.7,\"#b8e186\"],[0.8,\"#7fbc41\"],[0.9,\"#4d9221\"],[1,\"#276419\"]]},\"xaxis\":{\"gridcolor\":\"white\",\"linecolor\":\"white\",\"ticks\":\"\",\"title\":{\"standoff\":15},\"zerolinecolor\":\"white\",\"automargin\":true,\"zerolinewidth\":2},\"yaxis\":{\"gridcolor\":\"white\",\"linecolor\":\"white\",\"ticks\":\"\",\"title\":{\"standoff\":15},\"zerolinecolor\":\"white\",\"automargin\":true,\"zerolinewidth\":2},\"scene\":{\"xaxis\":{\"backgroundcolor\":\"#E5ECF6\",\"gridcolor\":\"white\",\"linecolor\":\"white\",\"showbackground\":true,\"ticks\":\"\",\"zerolinecolor\":\"white\",\"gridwidth\":2},\"yaxis\":{\"backgroundcolor\":\"#E5ECF6\",\"gridcolor\":\"white\",\"linecolor\":\"white\",\"showbackground\":true,\"ticks\":\"\",\"zerolinecolor\":\"white\",\"gridwidth\":2},\"zaxis\":{\"backgroundcolor\":\"#E5ECF6\",\"gridcolor\":\"white\",\"linecolor\":\"white\",\"showbackground\":true,\"ticks\":\"\",\"zerolinecolor\":\"white\",\"gridwidth\":2}},\"shapedefaults\":{\"line\":{\"color\":\"#2a3f5f\"}},\"annotationdefaults\":{\"arrowcolor\":\"#2a3f5f\",\"arrowhead\":0,\"arrowwidth\":1},\"geo\":{\"bgcolor\":\"white\",\"landcolor\":\"#E5ECF6\",\"subunitcolor\":\"white\",\"showland\":true,\"showlakes\":true,\"lakecolor\":\"white\"},\"title\":{\"x\":0.05},\"mapbox\":{\"style\":\"light\"}}},\"xaxis\":{\"anchor\":\"y\",\"domain\":[0.0,1.0],\"title\":{\"text\":\"Fruits\"},\"categoryorder\":\"array\",\"categoryarray\":[\"Apples\",\"Bananas\",\"Cherries\",\"Dates\"]},\"yaxis\":{\"anchor\":\"x\",\"domain\":[0.0,1.0],\"title\":{\"text\":\"Quantity\"}},\"legend\":{\"title\":{\"text\":\"Fruits\"},\"tracegroupgap\":0},\"title\":{\"text\":\"Fruit Sales\"},\"barmode\":\"relative\"},                        {\"responsive\": true}                    ).then(function(){\n",
              "                            \n",
              "var gd = document.getElementById('65011254-4aa3-4bc4-96c0-0068e642ffc6');\n",
              "var x = new MutationObserver(function (mutations, observer) {{\n",
              "        var display = window.getComputedStyle(gd).display;\n",
              "        if (!display || display === 'none') {{\n",
              "            console.log([gd, 'removed!']);\n",
              "            Plotly.purge(gd);\n",
              "            observer.disconnect();\n",
              "        }}\n",
              "}});\n",
              "\n",
              "// Listen for the removal of the full notebook cells\n",
              "var notebookContainer = gd.closest('#notebook-container');\n",
              "if (notebookContainer) {{\n",
              "    x.observe(notebookContainer, {childList: true});\n",
              "}}\n",
              "\n",
              "// Listen for the clearing of the current output cell\n",
              "var outputEl = gd.closest('.output');\n",
              "if (outputEl) {{\n",
              "    x.observe(outputEl, {childList: true});\n",
              "}}\n",
              "\n",
              "                        })                };                            </script>        </div>\n",
              "</body>\n",
              "</html>"
            ]
          },
          "metadata": {}
        }
      ]
    },
    {
      "cell_type": "markdown",
      "source": [
        "6. Create a DataFrame and add a new column based on an existing column"
      ],
      "metadata": {
        "id": "puNDeE3uyEz0"
      }
    },
    {
      "cell_type": "code",
      "source": [
        "import pandas as pd\n",
        "\n",
        "# Step 1: Create a sample DataFrame\n",
        "data = {\n",
        "    'Name': ['Alice', 'Bob', 'Charlie', 'David'],\n",
        "    'Marks': [85, 72, 90, 65]\n",
        "}\n",
        "\n",
        "df = pd.DataFrame(data)\n",
        "\n",
        "# Step 2: Add a new column based on 'Marks'\n",
        "# Let's say we want to assign grades\n",
        "def get_grade(mark):\n",
        "    if mark >= 85:\n",
        "        return 'A'\n",
        "    elif mark >= 70:\n",
        "        return 'B'\n",
        "    else:\n",
        "        return 'C'\n",
        "\n",
        "df['Grade'] = df['Marks'].apply(get_grade)\n",
        "\n",
        "# Step 3: Display the DataFrame\n",
        "print(df)"
      ],
      "metadata": {
        "colab": {
          "base_uri": "https://localhost:8080/"
        },
        "id": "e3pGr0nzx8Mm",
        "outputId": "6f3453c2-503b-4c6d-e199-812268edb10e"
      },
      "execution_count": 6,
      "outputs": [
        {
          "output_type": "stream",
          "name": "stdout",
          "text": [
            "      Name  Marks Grade\n",
            "0    Alice     85     A\n",
            "1      Bob     72     B\n",
            "2  Charlie     90     A\n",
            "3    David     65     C\n"
          ]
        }
      ]
    },
    {
      "cell_type": "markdown",
      "source": [
        "7. Write a program to perform element-wise multiplication of two NumPy arrays"
      ],
      "metadata": {
        "id": "ViUHzAt3yVkJ"
      }
    },
    {
      "cell_type": "code",
      "source": [
        "import numpy as np\n",
        "\n",
        "# Define two NumPy arrays\n",
        "array1 = np.array([1, 2, 3, 4])\n",
        "array2 = np.array([10, 20, 30, 40])\n",
        "\n",
        "# Element-wise multiplication\n",
        "result = array1 * array2\n",
        "\n",
        "# Display the result\n",
        "print(\"Array 1:\", array1)\n",
        "print(\"Array 2:\", array2)\n",
        "print(\"Element-wise Multiplication:\", result)"
      ],
      "metadata": {
        "colab": {
          "base_uri": "https://localhost:8080/"
        },
        "id": "xBKgmYzpyS0k",
        "outputId": "673e7ed4-47ff-428f-aa44-a76344006f82"
      },
      "execution_count": 7,
      "outputs": [
        {
          "output_type": "stream",
          "name": "stdout",
          "text": [
            "Array 1: [1 2 3 4]\n",
            "Array 2: [10 20 30 40]\n",
            "Element-wise Multiplication: [ 10  40  90 160]\n"
          ]
        }
      ]
    },
    {
      "cell_type": "markdown",
      "source": [
        "8. Create a line plot with multiple lines using Matplotlib"
      ],
      "metadata": {
        "id": "Syad4E-cykKl"
      }
    },
    {
      "cell_type": "code",
      "source": [
        "import matplotlib.pyplot as plt\n",
        "\n",
        "# Sample data\n",
        "x = [1, 2, 3, 4, 5]\n",
        "\n",
        "# Line 1 data\n",
        "y1 = [2, 4, 6, 8, 10]\n",
        "\n",
        "# Line 2 data\n",
        "y2 = [1, 3, 5, 7, 9]\n",
        "\n",
        "# Line 3 data\n",
        "y3 = [5, 4, 3, 2, 1]\n",
        "\n",
        "# Create the plot\n",
        "plt.plot(x, y1, label='Line 1', color='blue', marker='o')\n",
        "plt.plot(x, y2, label='Line 2', color='green', linestyle='--')\n",
        "plt.plot(x, y3, label='Line 3', color='red', linestyle=':')\n",
        "\n",
        "# Add labels and title\n",
        "plt.xlabel('X-axis')\n",
        "plt.ylabel('Y-axis')\n",
        "plt.title('Line Plot with Multiple Lines')\n",
        "\n",
        "# Show legend\n",
        "plt.legend()\n",
        "\n",
        "# Show the plot\n",
        "plt.grid(True)\n",
        "plt.show()"
      ],
      "metadata": {
        "colab": {
          "base_uri": "https://localhost:8080/",
          "height": 472
        },
        "id": "wFiCO22-yik7",
        "outputId": "5e2e7551-f255-4d1c-96aa-6add63b5cb4c"
      },
      "execution_count": 8,
      "outputs": [
        {
          "output_type": "display_data",
          "data": {
            "text/plain": [
              "<Figure size 640x480 with 1 Axes>"
            ],
            "image/png": "[encoded data removed]"
          },
          "metadata": {}
        }
      ]
    },
    {
      "cell_type": "markdown",
      "source": [
        "9. Generate a Pandas DataFrame and filter rows where a column value is greater than a threshold"
      ],
      "metadata": {
        "id": "uccAsHcYy6cK"
      }
    },
    {
      "cell_type": "code",
      "source": [
        "import pandas as pd\n",
        "\n",
        "# Step 1: Create a sample DataFrame\n",
        "data = {\n",
        "    'Name': ['Alice', 'Bob', 'Charlie', 'David'],\n",
        "    'Age': [25, 32, 18, 45]\n",
        "}\n",
        "\n",
        "df = pd.DataFrame(data)\n",
        "\n",
        "# Step 2: Filter rows where Age > 30\n",
        "filtered_df = df[df['Age'] > 30]\n",
        "\n",
        "# Step 3: Display the filtered DataFrame\n",
        "print(filtered_df)"
      ],
      "metadata": {
        "colab": {
          "base_uri": "https://localhost:8080/"
        },
        "id": "ke2g5Z3zy0n2",
        "outputId": "c804d35f-9432-4b48-8bdc-1fce641f026a"
      },
      "execution_count": 9,
      "outputs": [
        {
          "output_type": "stream",
          "name": "stdout",
          "text": [
            "    Name  Age\n",
            "1    Bob   32\n",
            "3  David   45\n"
          ]
        }
      ]
    },
    {
      "cell_type": "markdown",
      "source": [
        "10.  Create a histogram using Seaborn to visualize a distribution"
      ],
      "metadata": {
        "id": "Mf7gLAE3zItV"
      }
    },
    {
      "cell_type": "code",
      "source": [
        "import seaborn as sns\n",
        "import matplotlib.pyplot as plt\n",
        "import pandas as pd\n",
        "\n",
        "# Sample data\n",
        "data = {\n",
        "    'Scores': [55, 67, 45, 70, 90, 85, 76, 80, 60, 66, 74, 88, 92, 73, 59]\n",
        "}\n",
        "\n",
        "df = pd.DataFrame(data)\n",
        "\n",
        "# Create histogram with Seaborn\n",
        "sns.histplot(data=df, x='Scores', bins=8, kde=True, color='skyblue')\n",
        "\n",
        "# Add labels and title\n",
        "plt.title(\"Distribution of Scores\")\n",
        "plt.xlabel(\"Score\")\n",
        "plt.ylabel(\"Frequency\")\n",
        "\n",
        "# Show the plot\n",
        "plt.show()"
      ],
      "metadata": {
        "colab": {
          "base_uri": "https://localhost:8080/",
          "height": 472
        },
        "id": "pVbiWwVqzGt8",
        "outputId": "afbc2d62-e41b-4023-8b58-8159ab452dd1"
      },
      "execution_count": 10,
      "outputs": [
        {
          "output_type": "display_data",
          "data": {
            "text/plain": [
              "<Figure size 640x480 with 1 Axes>"
            ],
            "image/png": "[encoded data removed]"
          },
          "metadata": {}
        }
      ]
    },
    {
      "cell_type": "markdown",
      "source": [
        "11. Perform matrix multiplication using NumPy"
      ],
      "metadata": {
        "id": "1H-1UuABzniD"
      }
    },
    {
      "cell_type": "code",
      "source": [
        "import numpy as np\n",
        "\n",
        "# Define two matrices (2D arrays)\n",
        "A = np.array([[1, 2],\n",
        "              [3, 4]])\n",
        "\n",
        "B = np.array([[5, 6],\n",
        "              [7, 8]])\n",
        "\n",
        "# Perform matrix multiplication\n",
        "result = np.dot(A, B)\n",
        "\n",
        "# Alternatively (recommended for clarity):\n",
        "# result = A @ B  # Same as np.dot()\n",
        "\n",
        "# Display the result\n",
        "print(\"Matrix A:\\n\", A)\n",
        "print(\"Matrix B:\\n\", B)\n",
        "print(\"Matrix Multiplication Result (A x B):\\n\", result)"
      ],
      "metadata": {
        "colab": {
          "base_uri": "https://localhost:8080/"
        },
        "id": "J8QxeRFQzcI-",
        "outputId": "40721566-94d0-4be9-af09-339b7f0feb6a"
      },
      "execution_count": 11,
      "outputs": [
        {
          "output_type": "stream",
          "name": "stdout",
          "text": [
            "Matrix A:\n",
            " [[1 2]\n",
            " [3 4]]\n",
            "Matrix B:\n",
            " [[5 6]\n",
            " [7 8]]\n",
            "Matrix Multiplication Result (A x B):\n",
            " [[19 22]\n",
            " [43 50]]\n"
          ]
        }
      ]
    },
    {
      "cell_type": "markdown",
      "source": [
        "12.  Use Pandas to load a CSV file and display its first 5 rows"
      ],
      "metadata": {
        "id": "Bd72Rgebz0QC"
      }
    },
    {
      "cell_type": "code",
      "source": [
        "import pandas as pd\n",
        "\n",
        "# Load the CSV file\n",
        "df = pd.read_csv('your_file.csv')  # Replace with your actual file name/path\n",
        "\n",
        "# Display the first 5 rows\n",
        "print(df.head())"
      ],
      "metadata": {
        "id": "T_QhdU92zyQh"
      },
      "execution_count": 17,
      "outputs": []
    },
    {
      "cell_type": "markdown",
      "source": [
        "13. Create a 3D scatter plot using Plotly"
      ],
      "metadata": {
        "id": "Hpnj5U6mGz9J"
      }
    },
    {
      "cell_type": "code",
      "source": [
        "import plotly.express as px\n",
        "import pandas as pd\n",
        "\n",
        "# Sample data\n",
        "data = {\n",
        "    'X': [1, 2, 3, 4, 5],\n",
        "    'Y': [10, 15, 13, 17, 14],\n",
        "    'Z': [5, 6, 7, 8, 9],\n",
        "    'Category': ['A', 'B', 'A', 'B', 'A']  # Optional for coloring\n",
        "}\n",
        "\n",
        "df = pd.DataFrame(data)\n",
        "\n",
        "# Create a 3D scatter plot\n",
        "fig = px.scatter_3d(df, x='X', y='Y', z='Z', color='Category', title='3D Scatter Plot Example')\n",
        "\n",
        "# Show the plot\n",
        "fig.show()"
      ],
      "metadata": {
        "colab": {
          "base_uri": "https://localhost:8080/",
          "height": 542
        },
        "id": "jrml6Wql0R68",
        "outputId": "07d1e4cd-f856-40d6-c15d-33149adefa06"
      },
      "execution_count": 18,
      "outputs": [
        {
          "output_type": "display_data",
          "data": {
            "text/html": [
              "<html>\n",
              "<head><meta charset=\"utf-8\" /></head>\n",
              "<body>\n",
              "    <div>            <script src=\"https://cdnjs.cloudflare.com/ajax/libs/mathjax/2.7.5/MathJax.js?config=TeX-AMS-MML_SVG\"></script><script type=\"text/javascript\">if (window.MathJax && window.MathJax.Hub && window.MathJax.Hub.Config) {window.MathJax.Hub.Config({SVG: {font: \"STIX-Web\"}});}</script>                <script type=\"text/javascript\">window.PlotlyConfig = {MathJaxConfig: 'local'};</script>\n",
              "        <script charset=\"utf-8\" src=\"https://cdn.plot.ly/plotly-2.35.2.min.js\"></script>                <div id=\"6c34a489-4fdb-4103-873c-11101fd743a5\" class=\"plotly-graph-div\" style=\"height:525px; width:100%;\"></div>            <script type=\"text/javascript\">                                    window.PLOTLYENV=window.PLOTLYENV || {};                                    if (document.getElementById(\"6c34a489-4fdb-4103-873c-11101fd743a5\")) {                    Plotly.newPlot(                        \"6c34a489-4fdb-4103-873c-11101fd743a5\",                        [{\"hovertemplate\":\"Category=A\\u003cbr\\u003eX=%{x}\\u003cbr\\u003eY=%{y}\\u003cbr\\u003eZ=%{z}\\u003cextra\\u003e\\u003c\\u002fextra\\u003e\",\"legendgroup\":\"A\",\"marker\":{\"color\":\"#636efa\",\"symbol\":\"circle\"},\"mode\":\"markers\",\"name\":\"A\",\"scene\":\"scene\",\"showlegend\":true,\"x\":[1,3,5],\"y\":[10,13,14],\"z\":[5,7,9],\"type\":\"scatter3d\"},{\"hovertemplate\":\"Category=B\\u003cbr\\u003eX=%{x}\\u003cbr\\u003eY=%{y}\\u003cbr\\u003eZ=%{z}\\u003cextra\\u003e\\u003c\\u002fextra\\u003e\",\"legendgroup\":\"B\",\"marker\":{\"color\":\"#EF553B\",\"symbol\":\"circle\"},\"mode\":\"markers\",\"name\":\"B\",\"scene\":\"scene\",\"showlegend\":true,\"x\":[2,4],\"y\":[15,17],\"z\":[6,8],\"type\":\"scatter3d\"}],                        {\"template\":{\"data\":{\"histogram2dcontour\":[{\"type\":\"histogram2dcontour\",\"colorbar\":{\"outlinewidth\":0,\"ticks\":\"\"},\"colorscale\":[[0.0,\"#0d0887\"],[0.1111111111111111,\"#46039f\"],[0.2222222222222222,\"#7201a8\"],[0.3333333333333333,\"#9c179e\"],[0.4444444444444444,\"#bd3786\"],[0.5555555555555556,\"#d8576b\"],[0.6666666666666666,\"#ed7953\"],[0.7777777777777778,\"#fb9f3a\"],[0.8888888888888888,\"#fdca26\"],[1.0,\"#f0f921\"]]}],\"choropleth\":[{\"type\":\"choropleth\",\"colorbar\":{\"outlinewidth\":0,\"ticks\":\"\"}}],\"histogram2d\":[{\"type\":\"histogram2d\",\"colorbar\":{\"outlinewidth\":0,\"ticks\":\"\"},\"colorscale\":[[0.0,\"#0d0887\"],[0.1111111111111111,\"#46039f\"],[0.2222222222222222,\"#7201a8\"],[0.3333333333333333,\"#9c179e\"],[0.4444444444444444,\"#bd3786\"],[0.5555555555555556,\"#d8576b\"],[0.6666666666666666,\"#ed7953\"],[0.7777777777777778,\"#fb9f3a\"],[0.8888888888888888,\"#fdca26\"],[1.0,\"#f0f921\"]]}],\"heatmap\":[{\"type\":\"heatmap\",\"colorbar\":{\"outlinewidth\":0,\"ticks\":\"\"},\"colorscale\":[[0.0,\"#0d0887\"],[0.1111111111111111,\"#46039f\"],[0.2222222222222222,\"#7201a8\"],[0.3333333333333333,\"#9c179e\"],[0.4444444444444444,\"#bd3786\"],[0.5555555555555556,\"#d8576b\"],[0.6666666666666666,\"#ed7953\"],[0.7777777777777778,\"#fb9f3a\"],[0.8888888888888888,\"#fdca26\"],[1.0,\"#f0f921\"]]}],\"heatmapgl\":[{\"type\":\"heatmapgl\",\"colorbar\":{\"outlinewidth\":0,\"ticks\":\"\"},\"colorscale\":[[0.0,\"#0d0887\"],[0.1111111111111111,\"#46039f\"],[0.2222222222222222,\"#7201a8\"],[0.3333333333333333,\"#9c179e\"],[0.4444444444444444,\"#bd3786\"],[0.5555555555555556,\"#d8576b\"],[0.6666666666666666,\"#ed7953\"],[0.7777777777777778,\"#fb9f3a\"],[0.8888888888888888,\"#fdca26\"],[1.0,\"#f0f921\"]]}],\"contourcarpet\":[{\"type\":\"contourcarpet\",\"colorbar\":{\"outlinewidth\":0,\"ticks\":\"\"}}],\"contour\":[{\"type\":\"contour\",\"colorbar\":{\"outlinewidth\":0,\"ticks\":\"\"},\"colorscale\":[[0.0,\"#0d0887\"],[0.1111111111111111,\"#46039f\"],[0.2222222222222222,\"#7201a8\"],[0.3333333333333333,\"#9c179e\"],[0.4444444444444444,\"#bd3786\"],[0.5555555555555556,\"#d8576b\"],[0.6666666666666666,\"#ed7953\"],[0.7777777777777778,\"#fb9f3a\"],[0.8888888888888888,\"#fdca26\"],[1.0,\"#f0f921\"]]}],\"surface\":[{\"type\":\"surface\",\"colorbar\":{\"outlinewidth\":0,\"ticks\":\"\"},\"colorscale\":[[0.0,\"#0d0887\"],[0.1111111111111111,\"#46039f\"],[0.2222222222222222,\"#7201a8\"],[0.3333333333333333,\"#9c179e\"],[0.4444444444444444,\"#bd3786\"],[0.5555555555555556,\"#d8576b\"],[0.6666666666666666,\"#ed7953\"],[0.7777777777777778,\"#fb9f3a\"],[0.8888888888888888,\"#fdca26\"],[1.0,\"#f0f921\"]]}],\"mesh3d\":[{\"type\":\"mesh3d\",\"colorbar\":{\"outlinewidth\":0,\"ticks\":\"\"}}],\"scatter\":[{\"fillpattern\":{\"fillmode\":\"overlay\",\"size\":10,\"solidity\":0.2},\"type\":\"scatter\"}],\"parcoords\":[{\"type\":\"parcoords\",\"line\":{\"colorbar\":{\"outlinewidth\":0,\"ticks\":\"\"}}}],\"scatterpolargl\":[{\"type\":\"scatterpolargl\",\"marker\":{\"colorbar\":{\"outlinewidth\":0,\"ticks\":\"\"}}}],\"bar\":[{\"error_x\":{\"color\":\"#2a3f5f\"},\"error_y\":{\"color\":\"#2a3f5f\"},\"marker\":{\"line\":{\"color\":\"#E5ECF6\",\"width\":0.5},\"pattern\":{\"fillmode\":\"overlay\",\"size\":10,\"solidity\":0.2}},\"type\":\"bar\"}],\"scattergeo\":[{\"type\":\"scattergeo\",\"marker\":{\"colorbar\":{\"outlinewidth\":0,\"ticks\":\"\"}}}],\"scatterpolar\":[{\"type\":\"scatterpolar\",\"marker\":{\"colorbar\":{\"outlinewidth\":0,\"ticks\":\"\"}}}],\"histogram\":[{\"marker\":{\"pattern\":{\"fillmode\":\"overlay\",\"size\":10,\"solidity\":0.2}},\"type\":\"histogram\"}],\"scattergl\":[{\"type\":\"scattergl\",\"marker\":{\"colorbar\":{\"outlinewidth\":0,\"ticks\":\"\"}}}],\"scatter3d\":[{\"type\":\"scatter3d\",\"line\":{\"colorbar\":{\"outlinewidth\":0,\"ticks\":\"\"}},\"marker\":{\"colorbar\":{\"outlinewidth\":0,\"ticks\":\"\"}}}],\"scattermapbox\":[{\"type\":\"scattermapbox\",\"marker\":{\"colorbar\":{\"outlinewidth\":0,\"ticks\":\"\"}}}],\"scatterternary\":[{\"type\":\"scatterternary\",\"marker\":{\"colorbar\":{\"outlinewidth\":0,\"ticks\":\"\"}}}],\"scattercarpet\":[{\"type\":\"scattercarpet\",\"marker\":{\"colorbar\":{\"outlinewidth\":0,\"ticks\":\"\"}}}],\"carpet\":[{\"aaxis\":{\"endlinecolor\":\"#2a3f5f\",\"gridcolor\":\"white\",\"linecolor\":\"white\",\"minorgridcolor\":\"white\",\"startlinecolor\":\"#2a3f5f\"},\"baxis\":{\"endlinecolor\":\"#2a3f5f\",\"gridcolor\":\"white\",\"linecolor\":\"white\",\"minorgridcolor\":\"white\",\"startlinecolor\":\"#2a3f5f\"},\"type\":\"carpet\"}],\"table\":[{\"cells\":{\"fill\":{\"color\":\"#EBF0F8\"},\"line\":{\"color\":\"white\"}},\"header\":{\"fill\":{\"color\":\"#C8D4E3\"},\"line\":{\"color\":\"white\"}},\"type\":\"table\"}],\"barpolar\":[{\"marker\":{\"line\":{\"color\":\"#E5ECF6\",\"width\":0.5},\"pattern\":{\"fillmode\":\"overlay\",\"size\":10,\"solidity\":0.2}},\"type\":\"barpolar\"}],\"pie\":[{\"automargin\":true,\"type\":\"pie\"}]},\"layout\":{\"autotypenumbers\":\"strict\",\"colorway\":[\"#636efa\",\"#EF553B\",\"#00cc96\",\"#ab63fa\",\"#FFA15A\",\"#19d3f3\",\"#FF6692\",\"#B6E880\",\"#FF97FF\",\"#FECB52\"],\"font\":{\"color\":\"#2a3f5f\"},\"hovermode\":\"closest\",\"hoverlabel\":{\"align\":\"left\"},\"paper_bgcolor\":\"white\",\"plot_bgcolor\":\"#E5ECF6\",\"polar\":{\"bgcolor\":\"#E5ECF6\",\"angularaxis\":{\"gridcolor\":\"white\",\"linecolor\":\"white\",\"ticks\":\"\"},\"radialaxis\":{\"gridcolor\":\"white\",\"linecolor\":\"white\",\"ticks\":\"\"}},\"ternary\":{\"bgcolor\":\"#E5ECF6\",\"aaxis\":{\"gridcolor\":\"white\",\"linecolor\":\"white\",\"ticks\":\"\"},\"baxis\":{\"gridcolor\":\"white\",\"linecolor\":\"white\",\"ticks\":\"\"},\"caxis\":{\"gridcolor\":\"white\",\"linecolor\":\"white\",\"ticks\":\"\"}},\"coloraxis\":{\"colorbar\":{\"outlinewidth\":0,\"ticks\":\"\"}},\"colorscale\":{\"sequential\":[[0.0,\"#0d0887\"],[0.1111111111111111,\"#46039f\"],[0.2222222222222222,\"#7201a8\"],[0.3333333333333333,\"#9c179e\"],[0.4444444444444444,\"#bd3786\"],[0.5555555555555556,\"#d8576b\"],[0.6666666666666666,\"#ed7953\"],[0.7777777777777778,\"#fb9f3a\"],[0.8888888888888888,\"#fdca26\"],[1.0,\"#f0f921\"]],\"sequentialminus\":[[0.0,\"#0d0887\"],[0.1111111111111111,\"#46039f\"],[0.2222222222222222,\"#7201a8\"],[0.3333333333333333,\"#9c179e\"],[0.4444444444444444,\"#bd3786\"],[0.5555555555555556,\"#d8576b\"],[0.6666666666666666,\"#ed7953\"],[0.7777777777777778,\"#fb9f3a\"],[0.8888888888888888,\"#fdca26\"],[1.0,\"#f0f921\"]],\"diverging\":[[0,\"#8e0152\"],[0.1,\"#c51b7d\"],[0.2,\"#de77ae\"],[0.3,\"#f1b6da\"],[0.4,\"#fde0ef\"],[0.5,\"#f7f7f7\"],[0.6,\"#e6f5d0\"],[0.7,\"#b8e186\"],[0.8,\"#7fbc41\"],[0.9,\"#4d9221\"],[1,\"#276419\"]]},\"xaxis\":{\"gridcolor\":\"white\",\"linecolor\":\"white\",\"ticks\":\"\",\"title\":{\"standoff\":15},\"zerolinecolor\":\"white\",\"automargin\":true,\"zerolinewidth\":2},\"yaxis\":{\"gridcolor\":\"white\",\"linecolor\":\"white\",\"ticks\":\"\",\"title\":{\"standoff\":15},\"zerolinecolor\":\"white\",\"automargin\":true,\"zerolinewidth\":2},\"scene\":{\"xaxis\":{\"backgroundcolor\":\"#E5ECF6\",\"gridcolor\":\"white\",\"linecolor\":\"white\",\"showbackground\":true,\"ticks\":\"\",\"zerolinecolor\":\"white\",\"gridwidth\":2},\"yaxis\":{\"backgroundcolor\":\"#E5ECF6\",\"gridcolor\":\"white\",\"linecolor\":\"white\",\"showbackground\":true,\"ticks\":\"\",\"zerolinecolor\":\"white\",\"gridwidth\":2},\"zaxis\":{\"backgroundcolor\":\"#E5ECF6\",\"gridcolor\":\"white\",\"linecolor\":\"white\",\"showbackground\":true,\"ticks\":\"\",\"zerolinecolor\":\"white\",\"gridwidth\":2}},\"shapedefaults\":{\"line\":{\"color\":\"#2a3f5f\"}},\"annotationdefaults\":{\"arrowcolor\":\"#2a3f5f\",\"arrowhead\":0,\"arrowwidth\":1},\"geo\":{\"bgcolor\":\"white\",\"landcolor\":\"#E5ECF6\",\"subunitcolor\":\"white\",\"showland\":true,\"showlakes\":true,\"lakecolor\":\"white\"},\"title\":{\"x\":0.05},\"mapbox\":{\"style\":\"light\"}}},\"scene\":{\"domain\":{\"x\":[0.0,1.0],\"y\":[0.0,1.0]},\"xaxis\":{\"title\":{\"text\":\"X\"}},\"yaxis\":{\"title\":{\"text\":\"Y\"}},\"zaxis\":{\"title\":{\"text\":\"Z\"}}},\"legend\":{\"title\":{\"text\":\"Category\"},\"tracegroupgap\":0},\"title\":{\"text\":\"3D Scatter Plot Example\"}},                        {\"responsive\": true}                    ).then(function(){\n",
              "                            \n",
              "var gd = document.getElementById('6c34a489-4fdb-4103-873c-11101fd743a5');\n",
              "var x = new MutationObserver(function (mutations, observer) {{\n",
              "        var display = window.getComputedStyle(gd).display;\n",
              "        if (!display || display === 'none') {{\n",
              "            console.log([gd, 'removed!']);\n",
              "            Plotly.purge(gd);\n",
              "            observer.disconnect();\n",
              "        }}\n",
              "}});\n",
              "\n",
              "// Listen for the removal of the full notebook cells\n",
              "var notebookContainer = gd.closest('#notebook-container');\n",
              "if (notebookContainer) {{\n",
              "    x.observe(notebookContainer, {childList: true});\n",
              "}}\n",
              "\n",
              "// Listen for the clearing of the current output cell\n",
              "var outputEl = gd.closest('.output');\n",
              "if (outputEl) {{\n",
              "    x.observe(outputEl, {childList: true});\n",
              "}}\n",
              "\n",
              "                        })                };                            </script>        </div>\n",
              "</body>\n",
              "</html>"
            ]
          },
          "metadata": {}
        }
      ]
    },
    {
      "cell_type": "code",
      "source": [],
      "metadata": {
        "id": "mpA07AJ7HYEi"
      },
      "execution_count": null,
      "outputs": []
    }
  ]
}